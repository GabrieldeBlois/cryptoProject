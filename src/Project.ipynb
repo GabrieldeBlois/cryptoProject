{
 "cells": [
  {
   "cell_type": "markdown",
   "metadata": {},
   "source": [
    "![](./img/capture_1.png)\n",
    "# Crypto 1 - Project\n",
    "## Description\n",
    "- The project is on the first slide of the course material.\n",
    "- Turn-in instructions and more information are provided there. You can ask for help in your respective Team channels.\n",
    "- Turn-in will be the morning of the defense, so you can work until the last second!\n",
    "\n",
    "## Defense reminder\n",
    "You'll be asked to provide a detailed write-up of how you solved each part of the challenges. Make sure to keep a text document or a presentation or something where you write everything you do and everything you try as you go.\n",
    "\n",
    "## Basic 1"
   ]
  },
  {
   "cell_type": "markdown",
   "metadata": {},
   "source": [
    "### Part 1: deciphering the message in the first slide\n",
    "\n",
    "The first challenge is on the first slide of the project, that I screenshoted and put at the top of this notebook\n",
    "\n",
    "\n",
    "It was written this: 3 - ctlf.rpobakotiy.coo\n",
    "\n",
    "\n",
    "\n",
    "Our first thought was that it may be some rail fence which is one of the easiest way to encrypt a message. The number have been a lead to that, and actually indicated the number of depth.\n",
    "\n",
    "\n",
    "We then used this link: https://www.dcode.fr/chiffre-rail-fence\n",
    "\n",
    "On the website, after setting the language to english, we tried it and it was one of the first results on the left; we were pretty sure that the word \"crypto\" would be in it, so we did a research on the page to find the word crypto, just like the capture below:\n",
    "\n",
    "![](./img/capture_2.png)"
   ]
  },
  {
   "cell_type": "markdown",
   "metadata": {},
   "source": [
    "Which led us to the following text:\n",
    "    \n",
    "Vmr suvrqixeksul urvbxqk xf tvdikt duj pqduemrt duj eqrrzrqt bdt tkrirvdi, vmr fxttsi ydqj xf du ravsuev tzresrt xf fsurpxurj sutrevxsj eqrdvwqrt. Dii xf vmrtr pxurt, vmru, trrhrj vx mdcr prru tvdsurj py twu duj rdqvm fqxh du xqslsudi iscsul bmsvr vx pqxbu, duj uxv vmr vxwlm fspqxwt fixbrq duj trrj-tzsiisul lqrru vmry devwdiiy xuer mdj prru. Mxbdqj bxujrqrj dpxwv d hdu bmx mdj urcrq trru twhhrq, d bsuvrq hdu, radhsusul vmr brrjt duj hdksul vmst sufrqruer -- vmdv mr bdt ixxksul dv du xttwdqy. Vmr hdu bxwij vdkr vmdv dt vqwr duj pdtr mst sjrdt xf vmr bxqij xu vmdv hstvdkr. 'Dm,' tdsj Ldujdif, 'uxb br exhr vx sv. S vmsuk Lxiiwh vqsrj vx. Mr trv xwv duj edhr pdek brtvbdqj, dt fdq dt vmr Lqrdv Qscrq. Pwv vmru mr vwqurj dtsjr. Mr bdt uxv jdwuvrj py vmr jstvduer, S dh twqr. Ux, txhrvmsul ritr jqrb msh dbdy. Tx hy fqsrujt vmsuk, vmxtr vmdv mwuvrj msh fxq hr. 'Vmr Bxxj-ricrt vqdekrj msh fsqtv, du rdty vdtk fxq vmrh, fxq mst vqdsi bdt tvsii fqrtm vmru. Vmqxwlm Hsqkbxxj duj pdek dldsu sv irj vmrh, vmxwlm vmry urcrq edwlmv msh. Vmr bxxj bdt fwii xf vmr qwhxwq xf msh, jqrdjfwi vdirt rcru dhxul prdtvt duj psqjt. Vmr Bxxjhru tdsj vmdv vmrqr bdt txhr urb vrqqxq dpqxdj, d lmxtv vmdv jqduk pixxj. Sv eishprj vqrrt vx fsuj urtvt; sv eqrzv suvx mxirt vx fsuj vmr yxwul; sv tiszzrj vmqxwlm bsujxbt vx fsuj eqdjirt. 'Pwv dv vmr brtvrqu rjlr xf Hsqkbxxj vmr vqdsi vwqurj dbdy. Sv bdujrqrj xff txwvmbdqjt duj zdttrj xwv xf vmr Bxxj-ricrt' kru, duj bdt ixtv. Duj vmru S hdjr d lqrdv hstvdkr. Yrt, Fqxjx, duj uxv vmr fsqtv; vmxwlm S frdq sv hdy zqxcr vmr bxqtv. S irv vmr hdvvrq pr. S irv msh lx; fxq S mdj hwem ritr vx vmsuk xf dv vmdv vshr, duj S tvsii vqwtvrj vmr ixqr xf Tdqwhdu. 'Brii, vmdv bdt yrdqt dlx. S mdcr zdsj fxq sv tsuer bsvm hduy jdqk duj jdulrqxwt jdyt. Vmr vqdsi bdt ixul exij bmru S vxxk sv wz dldsu, dfvrq Psipx irfv mrqr. Duj hy trdqem bxwij mdcr prru su cdsu, pwv fxq vmr mriz vmdv S mdj fqxh d fqsruj: Dqdlxqu, vmr lqrdvrtv vqdcriirq duj mwuvthdu xf vmst dlr xf vmr bxqij. Vxlrvmrq br txwlmv fxq Lxiiwh jxbu vmr bmxir irulvm xf Bsijrqiduj, bsvmxwv mxzr, duj bsvmxwv tweertt. Pwv dv idtv, bmru S mdj lscru wz vmr emdtr duj vwqurj vx xvmrq zdqvt, Lxiiwh bdt fxwuj. # BRIEXHR VX VMR EQYZVXLQDZMY HXJWIR Py jreszmrqsul vmst zdlr, yxw mdcr txicrj emdiirulr 1. Exulqdvwidvsxut! :) Br qrexhhruj yxw bqsvr d thdii zqxlqdh vx jreszmrq vmst zdlr dwvxhdvsediiy dt br *bsii* pr wzjdvsul sv bsvm urb sufxqhdvsxu & urb emdiirulrt xfvru. Vmr kry wtrj vx rueqyzv vmst zdlr bsii *uxv* emdulr, duj sf sv jxrt br bsii bqsvr tx xu Vrdht. Br ditx qrhsuj yxw vx **eqrdvr d Vrdh** ediirj \"EQYZV1 - YXWQVRDHUDHR\", vmst st bmrqr yxw'ii pr dpir vx dtk wt fxq msuvt duj bmrqr br bsii pr jxsul vmr fsudi jrfrutr. ## VMR ZQXNREV Vmr zqxnrev exutstvt xf d frb eqyzvxlqdzmy emdiirulr jrvdsirj prixb. Txhr emdiirulrt edu irdj vx xvmrq, mdqjrq emdiirulrt, xuer yxw'cr txicr vmrh. Rcrqy vshr yxw txicr d emdiirulr, yxw tmxwij **zsul wt** su yxwq vrdh't emduuri bsvm vmr txiwvsxu yxw fxwuj, br'ii qrcsrb sv duj exufsqh vmdv yxw lxv vmr qslmv dutbrq. Jwqsul vmr fsudi jrfrutr, yxw bsii pr lqdjrj xu: - Mxb hduy emdiirulrt yxw'cr txicrj. - *Mxb* yxw txicrj vmxtr emdiirulrt. - Yxwq dpsisvy vx razidsu yxwq qrdtxusul. - Duy teqszvt yxw twphsv dt zqxxf vmdv yxw jsj vmr vdtk (sf sv qrowsqrj teqszvsul) Sv lxrt bsvmxwv tdysul vmdv sf yxw teqszvt xq yxwq vwqu-su tmdqr vxx hwem su exhhxu bsvm d erqvdsu lqxwz yxw'ii pxvm lrv -42. Zirdtr jxu'v tmdqr txiwvsxut, fsqtv xf dii sv't uxv fwu, duj trexuj xf dii sv twekt fxq vmrh vxx. Vmsqj xf dii, yxw'ii pr qdukrj qridvscr vx rdem xvmrq (rdem emdiirulr st bxqvm IRTT sf HXQR zrxzir txicr sv), tx tmdqsul txiwvsxut st vmr prtv bdy vx ixtr zxsuvt. Vmst hxjwir st hdjr bsvm ixcr duj bsvm vmr suvruv xf prsul fwu fxq yxw dii, tx zidy py vmr qwirt duj runxy <3 ## VWQU-SU Yxw tmxwij vwqu su d jrvdsirj bqsvr-wz xf dii vmr rarqestrt yxw jsj, tvdqvsul bsvm vmst xur. Sv edu pr rsvmrq d zxbrqzxsuv zqrtruvdvsxu xq d ZJF, pwv br tmxwij pr dpir vx jxbuixdj sv vx emrek sv xwv idvrq. Yxw'ii ditx zqrtruv yxwq bqsvrwz jwqsul vmr jrfrutr. ## RARQESTRT ### Emdiirulr 1: Yxw diqrdjy jsj sv! Sv't vx lrv vx vmst zdlr! ### Emdiirulr 2: S deesjruvdiiy AXQ-rueqyzvrj vmst fsir... St vmrqr duy bdy yxw edu mriz hr qrexcrq sv? Sv't dv: /em2.phz ### Emdiirulr 3: Xm ux, S nwtv ixtv vmr SC br wtr fxq rcrqy rueqyzvrj fsir su xwq zqxjwevsxu tytvrh... Dii S mdcr st d teqrrutmxv xf xur vshr s rueqyzvrj txhr jdvd bsvm sv, pwv vmr teqrrutmxv lxv rjsvrj py d i337 mdekrq! Edu yxw mriz hr? Vmr teqrrutmxv st mrqr: /em3.nzl\n",
    "\n",
    "### Part 2: Deciphering the message found on http://crypto.blackfoot.io\n",
    "\n",
    "### First guess\n",
    "One of our first guess about this message is that it would hide some subsitutions of some sorts, especially because we can see the words like vmr. \n",
    "\n",
    "\n",
    "### How did we find it was substitution\n",
    "This word (as it is in english would probably mean \"the\", which is one of the most used words in english). And we can cross vmr in several places in the text, so the message has to be ciphered with an algorithm that has each letter associated with another fixed one.\n",
    "\n",
    "That said, we could have developped a script by ourselves that test all the possibilities, but we'd preffered to use a tool that was already made, we used this link: https://www.dcode.fr/substitution-monoalphabetique\n",
    "\n",
    "### The result\n",
    "\n",
    "We made a little script to apply the key that it isn't supposed to change\n",
    "\n",
    "\n"
   ]
  },
  {
   "cell_type": "code",
   "execution_count": null,
   "metadata": {},
   "outputs": [],
   "source": []
  },
  {
   "cell_type": "code",
   "execution_count": 32,
   "metadata": {},
   "outputs": [
    {
     "name": "stdout",
     "output_type": "stream",
     "text": [
      "key = {'a': 'x', 'b': 'm', 'c': 'v', 'd': 'a', 'e': 'c', 'f': 'f', 'g': 'j', 'h': 'm', 'i': 'l', 'j': 'd', 'k': 'k', 'l': 'g', 'm': 'h', 'n': 'j', 'o': 'q', 'p': 'b', 'q': 'r', 'r': 'e', 's': 'i', 't': 's', 'u': 'n', 'v': 't', 'w': 'u', 'x': 'o', 'y': 'y', 'z': 'p'}\n",
      "\n",
      "The interlocking netmork of stalks and branches and creepers mas skeletal, the fossil yard of an extinct species of fineboned insectoid creatures. All of these bones, then, seemed to have been stained by sun and earth from an original living mhite to bromn, and not the tough fibrous flomer and seed-spilling green they actually once had been. Homard mondered about a man mho had never seen summer, a minter man, examining the meeds and making this inference -- that he mas looking at an ossuary. The man mould take that as true and base his ideas of the morld on that mistake.\n",
      "\n",
      "'Ah,' said Gandalf, 'nom me come to it. I think Gollum tried to. He set out and came back mestmard, as far as the Great River. But then he turned aside. He mas not daunted by the distance, I am sure. No, something else drem him amay. So my friends think, those that hunted him for me. \n",
      "\n",
      "'The Mood-elves tracked him first, an easy task for them, for his trail mas still fresh then. Through Mirkmood and back again it led them, though they never caught him. The mood mas full of the rumour of him, dreadful tales even among beasts and birds. The Moodmen said that there mas some nem \n",
      "\n",
      "terror abroad, a ghost that drank blood. It climbed trees to find nests; it crept into holes to find the young; it slipped through mindoms to find cradles. \n",
      "\n",
      "'But at the mestern edge of Mirkmood the trail turned amay. It mandered off southmards and passed out of the Mood-elves' ken, and mas lost. And then I made a great mistake. Yes, Frodo, and not the first; though I fear it may prove the morst. I let the matter be. I let him go; for I had much else to think of at that time, and I still trusted the lore of Saruman. \n",
      "\n",
      "'Mell, that mas years ago. I have paid for it since mith many dark and dangerous days. The trail mas long cold mhen I took it up again, after Bilbo left here. And my search mould have been in vain, but for the help that I had from a friend: Aragorn, the greatest traveller and huntsman of this age of the morld. Together me sought for Gollum domn the mhole length of Milderland, mithout hope, and mithout success. But at last, mhen I had given up the chase and turned to other parts, Gollum mas found.\n",
      "\n",
      "# MELCOME TO THE CRYPTOGRAPHY MODULE\n",
      "\n",
      "By deciphering this page, you have solved your first challenge. Congratulations! :)\n",
      "\n",
      "Me recommend you mrite a small program to decipher this page automatically as me *mill* be updating it mith nem information & nem challenges often. The key used to encrypt this page mill *not* change, and if it does me mill mrite so on Teams.\n",
      "\n",
      "Me also remind you to **create a Team** called \"CRYPT1 - YOURTEAMNAME\", this is mhere you'll be able to ask us for hints and mhere me mill be doing the final defense.\n",
      "\n",
      "# THE PROJECT\n",
      "\n",
      "The project consists of a fem cryptography challenges detailed belom. Some challenges can lead to other, harder challenges, once you've solved them.\n",
      "\n",
      "Every time you solve a challenge, you should **ping us** in your team's channel mith the solution you found, me'll reviem it and confirm that you got the right ansmer.\n",
      "\n",
      "During the final defense, you mill be graded on:\n",
      "- Hom many challenges you've solved.\n",
      "- *Hom* you solved those challenges.\n",
      "- Your ability to explain your reasoning.\n",
      "- Any scripts you submit as proof that you did the task (if it required scripting)\n",
      "\n",
      "It goes mithout saying that if you scripts or your turn-in share too much in common mith another group you'll both get -42. Please don't share solutions, first of all it's not fun, and second of all it sucks for them too. Third of all, you'll be ranked relative to each other (each challenge is morth LESS if MORE people solve it), so sharing solutions is the best may to lose points.\n",
      "\n",
      "This module is made mith love and mith the intent of being fun for you all, so play by the rules and enjoy <3\n",
      "\n",
      "# TURN-IN\n",
      "\n",
      "You should turn in a detailed mrite-up of all the exercises you did, starting mith this one.\n",
      "\n",
      "It can be either a pomerpoint presentation or a PDF, but me should be able to domnload it to check it out later. You'll also present your mriteup during the defense.\n",
      "\n",
      "# EXERCISES\n",
      "\n",
      "## Basic\n",
      "### BASIC1:\n",
      "You already did it! It's to get to this page!\n",
      "\n",
      "### BASIC2:\n",
      "57656c6c20646f6e6520212054686520666c616720666f722074686973206368616c6c656e67652069732074686973206d6573736167652e\n",
      "\n",
      "### BASIC3:\n",
      "I accidentally XOR-encrypted this file... Is there any may you can help me recover it? It's at: /ch2.bmp\n",
      "\n",
      "### BASIC4:\n",
      "Oh no, I mas bromsing the internet and I accidentally encoded a very important picture, I'm not sure hom...\n",
      "I panicked and I closed the tab I mas on, and nom I can't find it again!\n",
      "\n",
      "I need the picture, and I'll give you a bonus if you can find the tab I mas on!\n",
      "/basic4.mebp\n",
      "\n",
      "## Hash\n",
      "### HASH1:\n",
      "Ooops, I got carried amay and hashed my super-secret passmord. Nom I can't find it again ! Please, help me !\n",
      "Here's the hash: 37f62f1363b04df4370753037853fe88\n",
      "\n",
      "### HASH2:\n",
      "I'm looking hard but I really can't find it this time ! Help !!!\n",
      "9ed61b711748cfb719db7b79d0a0062f\n",
      "\n",
      "## Symmetric\n",
      "### SYM1:\n",
      "Oh no, I just lost the IV me use for every encrypted file in our production system...\n",
      "All I have is a screenshot of one time i encrypted some data mith it, but the screenshot got edited by a l337 hacker!\n",
      "Can you help me? The screenshot is here: /ch3.jpg\n",
      "\n",
      "### SYM2: Bite-flip\n",
      "I have a smart dildo but somebody locked me out of the admin space. Help me get back in, I have needs !\n",
      "noflag.crypto.blackfoot.io\n",
      "\n",
      "## RSA\n",
      "### RSA1: Marm up\n",
      "Let's see if you got my class. Domnload /rsa1.pem, it's a public key.\n",
      "Nom domnload /rsa1Cipher.txt\n",
      "The message mas encrypted using the \"PKCS1 OAEP\" algorithm mith this public key. Try decrypting it.\n",
      "Oh yeah - and here's a number that could be useful ;)\n",
      "p = 11901234461494228310064076121482038286429650089208969229876184007349956782094248940290427800597817633601014470221576037327691902428151823981665392121868907\n",
      "\n",
      "### RSA2: ManyKeys\n",
      "Find the challenge yourself.\n",
      "\n",
      "### RSA3: Multiple Recipients\n",
      "The IT department sent a message to a fem employees, and me've intercepted it. Me should retrieve this potentially vital information - this IT department uses a homemade RSA implementation, this is our chance!\n",
      "/canudigit.jip\n"
     ]
    }
   ],
   "source": [
    "import nltk   \n",
    "import urllib\n",
    "from urllib.request import urlopen\n",
    "\n",
    "url = \"http://crypto.blackfoot.io\"\n",
    "html = urlopen(url).read()\n",
    "\n",
    "alphabet = \"abcdefghijklmnopqrstuvwxyz\"\n",
    "key = \"xmvacfjmldkghjqbreisntuoyp\"\n",
    "key_as_dict = {alphabet[i]:key[i] for i in range(len(alphabet))}\n",
    "\n",
    "print(f\"key = {key_as_dict}\\n\")\n",
    "content_string = \"\"\n",
    "for c in html:\n",
    "    if c >= ord('a') and c <= ord('z'):\n",
    "        c = chr(c)\n",
    "        content_string += key_as_dict[c]\n",
    "        continue\n",
    "    elif c >= ord('A') and c <= ord('Z'):\n",
    "        c = chr(ord(key_as_dict[chr(c + 32)]) - 32)\n",
    "        content_string += c\n",
    "        continue\n",
    "    content_string += chr(c)\n",
    "\n",
    "print(content_string)"
   ]
  },
  {
   "cell_type": "markdown",
   "metadata": {},
   "source": [
    "The interlocking netmork of stalks and branches and creepers mas skeletal, the fossil yard of an extinct species of fineboned insectoid creatures. All of these bones, then, seemed to have been stained by sun and earth from an original living mhite to bromn, and not the tough fibrous flomer and seed-spilling green they actually once had been. Homard mondered about a man mho had never seen summer, a minter man, examining the meeds and making this inference -- that he mas looking at an ossuary. The man mould take that as true and base his ideas of the morld on that mistake.\n",
    "\n",
    "'Ah,' said Gandalf, 'nom me come to it. I think Gollum tried to. He set out and came back mestmard, as far as the Great River. But then he turned aside. He mas not daunted by the distance, I am sure. No, something else drem him amay. So my friends think, those that hunted him for me. \n",
    "\n",
    "'The Mood-elves tracked him first, an easy task for them, for his trail mas still fresh then. Through Mirkmood and back again it led them, though they never caught him. The mood mas full of the rumour of him, dreadful tales even among beasts and birds. The Moodmen said that there mas some nem \n",
    "\n",
    "terror abroad, a ghost that drank blood. It climbed trees to find nests; it crept into holes to find the young; it slipped through mindoms to find cradles. \n",
    "\n",
    "'But at the mestern edge of Mirkmood the trail turned amay. It mandered off southmards and passed out of the Mood-elves' ken, and mas lost. And then I made a great mistake. Yes, Frodo, and not the first; though I fear it may prove the morst. I let the matter be. I let him go; for I had much else to think of at that time, and I still trusted the lore of Saruman. \n",
    "\n",
    "'Mell, that mas years ago. I have paid for it since mith many dark and dangerous days. The trail mas long cold mhen I took it up again, after Bilbo left here. And my search mould have been in vain, but for the help that I had from a friend: Aragorn, the greatest traveller and huntsman of this age of the morld. Together me sought for Gollum domn the mhole length of Milderland, mithout hope, and mithout success. But at last, mhen I had given up the chase and turned to other parts, Gollum mas found.\n",
    "\n",
    "# MELCOME TO THE CRYPTOGRAPHY MODULE\n",
    "\n",
    "By deciphering this page, you have solved your first challenge. Congratulations! :)\n",
    "\n",
    "Me recommend you mrite a small program to decipher this page automatically as me *mill* be updating it mith nem information & nem challenges often. The key used to encrypt this page mill *not* change, and if it does me mill mrite so on Teams.\n",
    "\n",
    "Me also remind you to **create a Team** called \"CRYPT1 - YOURTEAMNAME\", this is mhere you'll be able to ask us for hints and mhere me mill be doing the final defense.\n",
    "\n",
    "# THE PROJECT\n",
    "\n",
    "The project consists of a fem cryptography challenges detailed belom. Some challenges can lead to other, harder challenges, once you've solved them.\n",
    "\n",
    "Every time you solve a challenge, you should **ping us** in your team's channel mith the solution you found, me'll reviem it and confirm that you got the right ansmer.\n",
    "\n",
    "During the final defense, you mill be graded on:\n",
    "- Hom many challenges you've solved.\n",
    "- *Hom* you solved those challenges.\n",
    "- Your ability to explain your reasoning.\n",
    "- Any scripts you submit as proof that you did the task (if it required scripting)\n",
    "\n",
    "It goes mithout saying that if you scripts or your turn-in share too much in common mith another group you'll both get -42. Please don't share solutions, first of all it's not fun, and second of all it sucks for them too. Third of all, you'll be ranked relative to each other (each challenge is morth LESS if MORE people solve it), so sharing solutions is the best may to lose points.\n",
    "\n",
    "This module is made mith love and mith the intent of being fun for you all, so play by the rules and enjoy <3\n",
    "\n",
    "# TURN-IN\n",
    "\n",
    "You should turn in a detailed mrite-up of all the exercises you did, starting mith this one.\n",
    "\n",
    "It can be either a pomerpoint presentation or a PDF, but me should be able to domnload it to check it out later. You'll also present your mriteup during the defense.\n",
    "\n",
    "# EXERCISES\n",
    "\n",
    "## Basic\n",
    "### BASIC1:\n",
    "You already did it! It's to get to this page!\n",
    "\n",
    "### BASIC2:\n",
    "57656c6c20646f6e6520212054686520666c616720666f722074686973206368616c6c656e67652069732074686973206d6573736167652e\n",
    "\n",
    "### BASIC3:\n",
    "I accidentally XOR-encrypted this file... Is there any may you can help me recover it? It's at: /ch2.bmp\n",
    "\n",
    "### BASIC4:\n",
    "Oh no, I mas bromsing the internet and I accidentally encoded a very important picture, I'm not sure hom...\n",
    "I panicked and I closed the tab I mas on, and nom I can't find it again!\n",
    "\n",
    "I need the picture, and I'll give you a bonus if you can find the tab I mas on!\n",
    "/basic4.mebp\n",
    "\n",
    "## Hash\n",
    "### HASH1:\n",
    "Ooops, I got carried amay and hashed my super-secret passmord. Nom I can't find it again ! Please, help me !\n",
    "Here's the hash: 37f62f1363b04df4370753037853fe88\n",
    "\n",
    "### HASH2:\n",
    "I'm looking hard but I really can't find it this time ! Help !!!\n",
    "9ed61b711748cfb719db7b79d0a0062f\n",
    "\n",
    "## Symmetric\n",
    "### SYM1:\n",
    "Oh no, I just lost the IV me use for every encrypted file in our production system...\n",
    "All I have is a screenshot of one time i encrypted some data mith it, but the screenshot got edited by a l337 hacker!\n",
    "Can you help me? The screenshot is here: /ch3.jpg\n",
    "\n",
    "### SYM2: Bite-flip\n",
    "I have a smart dildo but somebody locked me out of the admin space. Help me get back in, I have needs !\n",
    "noflag.crypto.blackfoot.io\n",
    "\n",
    "## RSA\n",
    "### RSA1: Marm up\n",
    "Let's see if you got my class. Domnload /rsa1.pem, it's a public key.\n",
    "Nom domnload /rsa1Cipher.txt\n",
    "The message mas encrypted using the \"PKCS1 OAEP\" algorithm mith this public key. Try decrypting it.\n",
    "Oh yeah - and here's a number that could be useful ;)\n",
    "p = 11901234461494228310064076121482038286429650089208969229876184007349956782094248940290427800597817633601014470221576037327691902428151823981665392121868907\n",
    "\n",
    "### RSA2: ManyKeys\n",
    "Find the challenge yourself.\n",
    "\n",
    "### RSA3: Multiple Recipients\n",
    "The IT department sent a message to a fem employees, and me've intercepted it. Me should retrieve this potentially vital information - this IT department uses a homemade RSA implementation, this is our chance!\n",
    "/canudigit.jip"
   ]
  },
  {
   "cell_type": "markdown",
   "metadata": {},
   "source": [
    "## Basic 2:\n",
    "57656C6C20646F6E6520212054686520666C616720666F722074686973206368616C6C656E67652069732074686973206D6573736167652E\n",
    "\n",
    "??"
   ]
  },
  {
   "cell_type": "markdown",
   "metadata": {},
   "source": [
    "ceci est du Latex: $e^{i\\pi} + 1 = 0$\n",
    "\n",
    "\n",
    "une autre: $e^x=\\sum_{i=0}^\\infty \\frac{1}{i!}x^i$\n"
   ]
  },
  {
   "cell_type": "markdown",
   "metadata": {},
   "source": [
    "## Basic 3: I accidentally XOR-encrypted this file...\n",
    "Is there any way you can help me recover it ? It's at /ch2.bmp\n",
    "\n",
    "image link: https://crypto.blackfoot.io/ch2.bmp\n",
    "\n",
    "The image is stored in this directory undex ./img/"
   ]
  },
  {
   "cell_type": "markdown",
   "metadata": {},
   "source": [
    "\n",
    "### First thought\n",
    "\n",
    "From the wikipedia page: https://en.wikipedia.org/wiki/BMP_file_format the bmp format has a fixed header which can help us to know some of the characters of the key, or the character if the key is a repetitive single character.\n",
    "\n",
    "let's load the file:"
   ]
  },
  {
   "cell_type": "code",
   "execution_count": 1,
   "metadata": {},
   "outputs": [
    {
     "name": "stdout",
     "output_type": "stream",
     "text": [
      "This file contains: 63642 bytes\n"
     ]
    },
    {
     "data": {
      "text/plain": [
       "b'%$\\xee\\x9fudgitg\\xffdgi\\x08gud\\x19itg\\x0bdgiugUd'"
      ]
     },
     "execution_count": 1,
     "metadata": {},
     "output_type": "execute_result"
    }
   ],
   "source": [
    "img_bytes = []\n",
    "with open('./resources/ch2.bmp', 'rb') as file:\n",
    "    img_bytes = file.read()\n",
    "file_size = len(img_bytes)\n",
    "print(f\"This file contains: {file_size} bytes\")\n",
    "img_bytes[:30]"
   ]
  },
  {
   "cell_type": "markdown",
   "metadata": {},
   "source": [
    "As seen in the wikipedia page of the XOR encryption [here](https://en.wikipedia.org/wiki/XOR_cipher), and BMP format [here](https://en.wikipedia.org/wiki/BMP_file_format) the first two bytes must be BM, and the xor encryption implies that:"
   ]
  },
  {
   "cell_type": "code",
   "execution_count": 2,
   "metadata": {},
   "outputs": [
    {
     "name": "stdout",
     "output_type": "stream",
     "text": [
      "A ^ 0 = 3\n",
      "A ^ A = 0\n",
      "(A ^ B) ^ C = A ^ (B ^ C) such as 14 = 14\n",
      "(B ^ A) ^ A = B ^ 0 = 0 such as 5 = 5\n"
     ]
    }
   ],
   "source": [
    "A, B, C = 3, 5, 8\n",
    "\n",
    "print(f\"A ^ 0 = {A ^ 0}\")\n",
    "print(f\"A ^ A = {A ^ A}\")\n",
    "print(f\"(A ^ B) ^ C = A ^ (B ^ C) such as {(A ^ B) ^ C} = {A ^ (B ^ C)}\")\n",
    "print(f\"(B ^ A) ^ A = B ^ 0 = 0 such as {(B ^ A) ^ A} = {B ^ 0}\")"
   ]
  },
  {
   "cell_type": "markdown",
   "metadata": {},
   "source": [
    "So: for A the real character (the 'B' of 'BM') and C the current character and K as the key as: \n",
    "\n",
    "A xor K = C so K = A xor C"
   ]
  },
  {
   "cell_type": "code",
   "execution_count": 3,
   "metadata": {},
   "outputs": [
    {
     "name": "stdout",
     "output_type": "stream",
     "text": [
      "A:16 ^ K:32 = C:48 so K:32 = A:16 ^ C:48 = 32\n"
     ]
    }
   ],
   "source": [
    "A = 16\n",
    "K = 32\n",
    "C = A ^ K\n",
    "print(f\"A:{A} ^ K:{K} = C:{C} so K:{K} = A:{A} ^ C:{C} = {A ^ C}\")"
   ]
  },
  {
   "cell_type": "markdown",
   "metadata": {},
   "source": [
    "### Apply these tests to our real world problem\n",
    "let's apply that to our bmp file"
   ]
  },
  {
   "cell_type": "code",
   "execution_count": 4,
   "metadata": {},
   "outputs": [
    {
     "name": "stdout",
     "output_type": "stream",
     "text": [
      "The wiki says that the first char (A) must be equal to 0x42 in hexa: A = 0x42\n",
      "At that moment: A:66 C:37 key:103 | check: C = 37\n",
      "second character as hexa with the same key: 0x43\n",
      "At that moment: A2:77 C2:36 key:105 | check: C = 36\n"
     ]
    }
   ],
   "source": [
    "# first let's get the key for the first character\n",
    "A = b'B'[0]\n",
    "print(f\"The wiki says that the first char (A) must be equal to 0x42 in hexa: A = {hex(A)}\")\n",
    "C = img_bytes[0]\n",
    "key1 = A ^ C\n",
    "print(f\"At that moment: A:{A} C:{C} key:{key1} | check: C = {A ^ key1}\")\n",
    "\n",
    "# check if it works for the second byte with the same key. The second must be: 0x4D\n",
    "print(f\"second character as hexa with the same key: {hex(img_bytes[1] ^ key1)}\")\n",
    "\n",
    "# So the second character does not have the same key. Let's find it\n",
    "A2, C2 = b'M'[0], img_bytes[1]\n",
    "key2 = A2 ^ C2\n",
    "print(f\"At that moment: A2:{A2} C2:{C2} key:{key2} | check: C = {A2 ^ key2}\")"
   ]
  },
  {
   "cell_type": "markdown",
   "metadata": {},
   "source": [
    "We can go a little bit further in our testing, because we know that the file size is 62kb, which should be encoded in the next 4 bytes"
   ]
  },
  {
   "cell_type": "code",
   "execution_count": 5,
   "metadata": {},
   "outputs": [
    {
     "name": "stdout",
     "output_type": "stream",
     "text": [
      "If this is 0, the length of the key is relevant: 0\n"
     ]
    }
   ],
   "source": [
    "import struct\n",
    "file_size_real = file_size\n",
    "file_size_real_bytes = file_size_real.to_bytes(4, byteorder = 'little')\n",
    "\n",
    "# getting the interesting part of the header containing the size\n",
    "file_size_crypted_bytes = img_bytes[2:6]\n",
    "\n",
    "key = []\n",
    "key.append(key1)\n",
    "key.append(key2)\n",
    "\n",
    "for i in range(4):\n",
    "    key.append(file_size_real_bytes[i] ^ file_size_crypted_bytes[i])\n",
    "\n",
    "# first of all, let's check that the size of the file is a multiple of six for the key to work\n",
    "print(f\"If this is 0, the length of the key is relevant: {file_size_real % 6}\")\n",
    "    \n",
    "# let's imagine that the actual key was 6 bytes long\n",
    "index = 0\n",
    "img_bytes_decrypted = []\n",
    "for b in img_bytes:\n",
    "    img_bytes_decrypted.append(b ^ key[index % len(key)])\n",
    "    index = index + 1\n",
    "img_bytes_decrypted = bytes(img_bytes_decrypted)\n",
    "\n",
    "with open(\"./resources/ch2-decrypted.bmp\", \"wb\") as new_file:\n",
    "    new_file.write(img_bytes_decrypted)"
   ]
  },
  {
   "cell_type": "markdown",
   "metadata": {},
   "source": [
    "It worked !!!!\n",
    "\n",
    "The created bmp is in the resource folder"
   ]
  },
  {
   "cell_type": "markdown",
   "metadata": {},
   "source": [
    "## Hash 1: Ooops I got carried away and hashed my super secret password\n",
    "Now i can't find it again, please help !!\n",
    "\n",
    "Here is the hash: 37F62F1363B04DF4370753037853FE88\n",
    "    \n",
    "### What to do when we have a hash\n",
    "\n",
    "The main purpose of a hash is not to be possible to reverse engineer, the problem is: some algorithms like the md5 exists since so many times that it exists some websites that lists millions of possiblity\n",
    "    \n",
    "This one is not an exception, i went to: https://crackstation.net and get to the page on the screenshot below\n",
    "\n",
    "![](./img/capture_3.png)\n",
    "\n",
    "result: trololo"
   ]
  },
  {
   "cell_type": "markdown",
   "metadata": {},
   "source": [
    "## Hash 2: I'm looking hard but i really can't find it this time ! HELP !!!\n",
    "\n",
    "hash: 9ED61B711748CFB719DB7B79D0A0062F\n",
    "\n",
    "This time the website used above was of no help"
   ]
  },
  {
   "cell_type": "markdown",
   "metadata": {},
   "source": [
    "## Sym 1: Oh no, I just lost the IV (initialization vector) we use for every encrypted file in our production system\n",
    "All i have is a screenshot of one time I encrypted some data with it, but the screenshot got edited by a L337 hacker ! Can you help me ? the screenshot is here: /ch3.jpg\n",
    "\n",
    "screenshot link: https://crypto.blackfoot.io/ch3.jpg\n",
    "\n"
   ]
  },
  {
   "cell_type": "markdown",
   "metadata": {},
   "source": [
    "### First: try to run the code given on the screenshot"
   ]
  },
  {
   "cell_type": "code",
   "execution_count": 6,
   "metadata": {},
   "outputs": [
    {
     "name": "stdout",
     "output_type": "stream",
     "text": [
      "block_size = 16 and plaintext len = 32\n",
      "My result:  2de58fabf38a46e0bb0886d797ee75c28704e8fdb52aa3720ddd113610637e63\n",
      "his result: 00f374a82db50b2300000b88f1d976ddc1cf6db4524aac04e222853969367e0d\n"
     ]
    }
   ],
   "source": [
    "import base64\n",
    "import hashlib\n",
    "from Crypto.Cipher import AES\n",
    "\n",
    "plaintext = \"I was lost, but xxxxxxxxxxxxxxxx\"\n",
    "\n",
    "bs = AES.block_size\n",
    "print(f\"block_size = {bs} and plaintext len = {len(plaintext)}\")\n",
    "# i'm going to make the iv the same length of the real iv he used on the screenshot\n",
    "key = hashlib.sha256(\"omgwtfbbq\".encode()).digest()\n",
    "iv = \"1234567891234567\".encode()\n",
    "\n",
    "cipher = AES.new(key, AES.MODE_CBC, iv)\n",
    "\n",
    "ciphertext = cipher.encrypt(plaintext.encode())\n",
    "\n",
    "printed_result_for_him = \"00f374a82db50b2300000b88f1d976ddc1cf6db4524aac04e222853969367e0d\"\n",
    "myresult = ''.join(format(x, '02x') for x in ciphertext)\n",
    "print(f\"My result:  {myresult}\")\n",
    "print(f\"his result: {printed_result_for_him}\")"
   ]
  },
  {
   "cell_type": "markdown",
   "metadata": {},
   "source": [
    "We can deduce that there are two blocks"
   ]
  },
  {
   "cell_type": "markdown",
   "metadata": {},
   "source": [
    "### First thought\n",
    "\n",
    "With AES, the plain text is xored with the IV, then ciphered. So as seen in the previous challenge we have:\n",
    "    - A: plain text\n",
    "    - IV: the Initialization vector\n",
    "    - B: xored plain text\n",
    "    - C: xored ciphered text\n",
    "\n",
    "We can then conclude that: IV = ((deciphered(C)) = B) ^ A\n",
    "\n",
    "Let's try that with my IV = \"1234567891234567\""
   ]
  },
  {
   "cell_type": "code",
   "execution_count": 8,
   "metadata": {},
   "outputs": [
    {
     "name": "stdout",
     "output_type": "stream",
     "text": [
      "My iv: 1234567891234567\n"
     ]
    }
   ],
   "source": [
    "myresult_bytes = bytes.fromhex(myresult)\n",
    "ciphered_xored_b1 = myresult_bytes[:bs]\n",
    "cipher = AES.new(key, AES.MODE_ECB)\n",
    "deciphered_xored_b1 = cipher.decrypt(ciphered_xored_b1)\n",
    "deciphered_b1 = plaintext[:bs].encode()\n",
    "print(f\"My iv: {''.join(format(deciphered_b1[i] ^ deciphered_xored_b1[i], 'c') for i in range(bs))}\")"
   ]
  },
  {
   "cell_type": "markdown",
   "metadata": {},
   "source": [
    "It worked perfectly, let's try this method on the real ciphered text"
   ]
  },
  {
   "cell_type": "code",
   "execution_count": 9,
   "metadata": {},
   "outputs": [
    {
     "name": "stdout",
     "output_type": "stream",
     "text": [
      "My iv: sb°\u0018Ù¹ci\u0016ûÌ`ãe\n"
     ]
    }
   ],
   "source": [
    "printed_result_for_him_bytes = bytes.fromhex(printed_result_for_him)\n",
    "ciphered_xored_b1 = printed_result_for_him_bytes[:bs]\n",
    "cipher = AES.new(key, AES.MODE_ECB)\n",
    "deciphered_xored_b1 = cipher.decrypt(ciphered_xored_b1)\n",
    "deciphered_b1 = plaintext[:bs].encode()\n",
    "myiv = ''.join(format(deciphered_b1[i] ^ deciphered_xored_b1[i], 'c') for i in range(bs))\n",
    "print(f\"My iv: {myiv}\")"
   ]
  },
  {
   "cell_type": "markdown",
   "metadata": {},
   "source": [
    "Well it seems that it may not be the solution right now, it would work if i was not missing some part of the ciphered text\n",
    "\n",
    "### trying to decipher the second block instead\n",
    "\n",
    "This is my second attempt: I will try to decipher the second block to find the second part of the plain text to be able to find the missing parts en the first par of the ciphered text"
   ]
  },
  {
   "cell_type": "code",
   "execution_count": 10,
   "metadata": {},
   "outputs": [
    {
     "data": {
      "text/plain": [
       "\"low I'm Á¿ånd...\""
      ]
     },
     "execution_count": 10,
     "metadata": {},
     "output_type": "execute_result"
    }
   ],
   "source": [
    "ciphered_xored_b2 = printed_result_for_him_bytes[bs:bs * 2]\n",
    "cipher = AES.new(key, AES.MODE_ECB)\n",
    "deciphered_xored_b2 = cipher.decrypt(ciphered_xored_b2)\n",
    "# it will be partial\n",
    "deciphered_b2 = ''.join(format(deciphered_xored_b2[i] ^ printed_result_for_him_bytes[i], 'c') for i in range(bs))\n",
    "deciphered_b2"
   ]
  },
  {
   "cell_type": "markdown",
   "metadata": {},
   "source": [
    "This is promising !! But even though we know that, the goal of this challenge is to find the iv..\n",
    "Aniway now i know the cleartext, it's clear that the missing part are the L of the low, which is supposed to be n for now, and found for the last word "
   ]
  },
  {
   "cell_type": "code",
   "execution_count": 11,
   "metadata": {},
   "outputs": [
    {
     "name": "stdout",
     "output_type": "stream",
     "text": [
      "'00f374a82db50b2300000b88f1d976ddc1cf6db4524aac04e222853969367e0d'\n"
     ]
    },
    {
     "data": {
      "text/plain": [
       "'02f374a82db50b23a7d09b88f1d976dd'"
      ]
     },
     "execution_count": 11,
     "metadata": {},
     "output_type": "execute_result"
    }
   ],
   "source": [
    "# preparing variables\n",
    "plaintext = \"I was lost, but now I'm found...\"\n",
    "plaintext_bytes = plaintext.encode()\n",
    "plaintext_bytes_b1 = plaintext_bytes[:bs]\n",
    "plaintext_bytes_b2 = plaintext_bytes[bs:bs * 2]\n",
    "ciphered_xored = bytes.fromhex(printed_result_for_him)\n",
    "ciphered_xored_b1 = ciphered_xored[:bs]\n",
    "ciphered_xored_b2 = ciphered_xored[bs:bs * 2]\n",
    "\n",
    "cipher = AES.new(key, AES.MODE_ECB)\n",
    "deciphered_xored_b2 = cipher.decrypt(ciphered_xored_b2)\n",
    "print(f\"'{printed_result_for_him}'\")\n",
    "printed_ciphered_xored_reconstructed_b1 = ''.join(format(plaintext_bytes_b2[i] ^ deciphered_xored_b2[i], '02x') for i in range(bs))\n",
    "ciphered_xored_reconstructed_b1 = bytes.fromhex(printed_ciphered_xored_reconstructed_b1)\n",
    "printed_ciphered_xored_reconstructed_b1"
   ]
  },
  {
   "cell_type": "markdown",
   "metadata": {},
   "source": [
    "It looks like it worked ! let's recover the iv with this reconstructed ciphered xored text"
   ]
  },
  {
   "cell_type": "code",
   "execution_count": 12,
   "metadata": {},
   "outputs": [
    {
     "name": "stdout",
     "output_type": "stream",
     "text": [
      "My iv: h4ppyh4ppya5canB\n"
     ]
    }
   ],
   "source": [
    "cipher = AES.new(key, AES.MODE_ECB)\n",
    "deciphered_xored_b1 = cipher.decrypt(ciphered_xored_reconstructed_b1)\n",
    "\n",
    "myiv = ''.join(format(plaintext_bytes_b1[i] ^ deciphered_xored_b1[i], 'c') for i in range(bs))\n",
    "print(f\"My iv: {myiv}\")"
   ]
  },
  {
   "cell_type": "markdown",
   "metadata": {},
   "source": [
    "## Challenge Four: WARM UP, let's see if you got my class\n",
    "Download /rsa.pem, it's a public key. Now download /rsa1cipher.txt the message was encrypted using the pkcs1 OAEP algorithm with this public key. Try decrypting it.\n",
    "\n",
    "public key: https://crypto.blackfoot.io/rsa1.pem\n",
    "\n",
    "cipher text: https://crypto.blackfoot.io/rsa1Cipher.txt\n",
    "\n",
    "Oh yeah - and here's a number that could be useful :)\n",
    "\n",
    "P = 11901234461494228310064076121482038286429650089208969229876184007349956782094248940290427800597817633601014470221576037327691902428151823981665392121868907"
   ]
  },
  {
   "cell_type": "code",
   "execution_count": 13,
   "metadata": {},
   "outputs": [],
   "source": [
    "P = 11901234461494228310064076121482038286429650089208969229876184007349956782094248940290427800597817633601014470221576037327691902428151823981665392121868907"
   ]
  },
  {
   "cell_type": "code",
   "execution_count": 14,
   "metadata": {},
   "outputs": [
    {
     "ename": "AttributeError",
     "evalue": "'int' object has no attribute 'n'",
     "output_type": "error",
     "traceback": [
      "\u001b[0;31m---------------------------------------------------------------------------\u001b[0m",
      "\u001b[0;31mAttributeError\u001b[0m                            Traceback (most recent call last)",
      "\u001b[0;32m<ipython-input-14-b1029f3cc220>\u001b[0m in \u001b[0;36m<module>\u001b[0;34m\u001b[0m\n\u001b[1;32m      7\u001b[0m \u001b[0;34m\u001b[0m\u001b[0m\n\u001b[1;32m      8\u001b[0m \u001b[0;32mwith\u001b[0m \u001b[0mopen\u001b[0m\u001b[0;34m(\u001b[0m\u001b[0;34m'./resources/rsa1Cipher.txt'\u001b[0m\u001b[0;34m,\u001b[0m \u001b[0;34m'rb'\u001b[0m\u001b[0;34m)\u001b[0m \u001b[0;32mas\u001b[0m \u001b[0mmessage\u001b[0m\u001b[0;34m:\u001b[0m\u001b[0;34m\u001b[0m\u001b[0;34m\u001b[0m\u001b[0m\n\u001b[0;32m----> 9\u001b[0;31m     \u001b[0mciphertext\u001b[0m \u001b[0;34m=\u001b[0m \u001b[0mcipher\u001b[0m\u001b[0;34m.\u001b[0m\u001b[0mdecrypt\u001b[0m\u001b[0;34m(\u001b[0m\u001b[0mmessage\u001b[0m\u001b[0;34m.\u001b[0m\u001b[0mread\u001b[0m\u001b[0;34m(\u001b[0m\u001b[0;34m)\u001b[0m\u001b[0;34m)\u001b[0m\u001b[0;34m\u001b[0m\u001b[0;34m\u001b[0m\u001b[0m\n\u001b[0m\u001b[1;32m     10\u001b[0m     \u001b[0mprint\u001b[0m\u001b[0;34m(\u001b[0m\u001b[0mciphertext\u001b[0m\u001b[0;34m)\u001b[0m\u001b[0;34m\u001b[0m\u001b[0;34m\u001b[0m\u001b[0m\n",
      "\u001b[0;32m/opt/conda/lib/python3.7/site-packages/Crypto/Cipher/PKCS1_OAEP.py\u001b[0m in \u001b[0;36mdecrypt\u001b[0;34m(self, ciphertext)\u001b[0m\n\u001b[1;32m    159\u001b[0m \u001b[0;34m\u001b[0m\u001b[0m\n\u001b[1;32m    160\u001b[0m         \u001b[0;31m# See 7.1.2 in RFC3447\u001b[0m\u001b[0;34m\u001b[0m\u001b[0;34m\u001b[0m\u001b[0;34m\u001b[0m\u001b[0m\n\u001b[0;32m--> 161\u001b[0;31m         \u001b[0mmodBits\u001b[0m \u001b[0;34m=\u001b[0m \u001b[0mCrypto\u001b[0m\u001b[0;34m.\u001b[0m\u001b[0mUtil\u001b[0m\u001b[0;34m.\u001b[0m\u001b[0mnumber\u001b[0m\u001b[0;34m.\u001b[0m\u001b[0msize\u001b[0m\u001b[0;34m(\u001b[0m\u001b[0mself\u001b[0m\u001b[0;34m.\u001b[0m\u001b[0m_key\u001b[0m\u001b[0;34m.\u001b[0m\u001b[0mn\u001b[0m\u001b[0;34m)\u001b[0m\u001b[0;34m\u001b[0m\u001b[0;34m\u001b[0m\u001b[0m\n\u001b[0m\u001b[1;32m    162\u001b[0m         \u001b[0mk\u001b[0m \u001b[0;34m=\u001b[0m \u001b[0mceil_div\u001b[0m\u001b[0;34m(\u001b[0m\u001b[0mmodBits\u001b[0m\u001b[0;34m,\u001b[0m\u001b[0;36m8\u001b[0m\u001b[0;34m)\u001b[0m \u001b[0;31m# Convert from bits to bytes\u001b[0m\u001b[0;34m\u001b[0m\u001b[0;34m\u001b[0m\u001b[0m\n\u001b[1;32m    163\u001b[0m         \u001b[0mhLen\u001b[0m \u001b[0;34m=\u001b[0m \u001b[0mself\u001b[0m\u001b[0;34m.\u001b[0m\u001b[0m_hashObj\u001b[0m\u001b[0;34m.\u001b[0m\u001b[0mdigest_size\u001b[0m\u001b[0;34m\u001b[0m\u001b[0;34m\u001b[0m\u001b[0m\n",
      "\u001b[0;31mAttributeError\u001b[0m: 'int' object has no attribute 'n'"
     ]
    }
   ],
   "source": [
    "from Crypto.Cipher import PKCS1_OAEP\n",
    "from Crypto.PublicKey import RSA\n",
    "\n",
    "message = b'You can attack now!'\n",
    "key = RSA.importKey(open('./resources/rsa1.pem').read())\n",
    "cipher = PKCS1_OAEP.new(P)\n",
    "\n",
    "with open('./resources/rsa1Cipher.txt', 'rb') as message:\n",
    "    ciphertext = cipher.decrypt(message.read())\n",
    "    print(ciphertext)"
   ]
  },
  {
   "cell_type": "markdown",
   "metadata": {},
   "source": [
    "## Challenge Five: RSA2: manykeys\n",
    "find the challenge by yourself\n",
    "\n",
    "subject:"
   ]
  },
  {
   "cell_type": "markdown",
   "metadata": {},
   "source": [
    "THE INTERLOCKING NETWORK OF STALKS AND BRANCHES AND CREEPERS WAS SKELETAL, THE FOSSIL YARD OF AN EXTINCT SPECIES OF FINEBONED INSECTOID CREATURES. ALL OF THESE BONES, THEN, SEEMED TO HAVE BEEN STAINED BY SUN AND EARTH FROM AN ORIGINAL LIVING WHITE TO BROWN, AND NOT THE TOUGH FIBROUS FLOWER AND SEED-SPILLING GREEN THEY ACTUALLY ONCE HAD BEEN. HOWARD WONDERED ABOUT A MAN WHO HAD NEVER SEEN SUMMER, A WINTER MAN, EXAMINING THE WEEDS AND MAKING THIS INFERENCE -- THAT HE WAS LOOKING AT AN OSSUARY. THE MAN WOULD TAKE THAT AS TRUE AND BASE HIS IDEAS OF THE WORLD ON THAT MISTAKE. 'AH,' SAID GANDALF, 'NOW WE COME TO IT. I THINK GOLLUM TRIED TO. HE SET OUT AND CAME BACK WESTWARD, AS FAR AS THE GREAT RIVER. BUT THEN HE TURNED ASIDE. HE WAS NOT DAUNTED BY THE DISTANCE, I AM SURE. NO, SOMETHING ELSE DREW HIM AWAY. SO MY FRIENDS THINK, THOSE THAT HUNTED HIM FOR ME. 'THE WOOD-ELVES TRACKED HIM FIRST, AN EASY TASK FOR THEM, FOR HIS TRAIL WAS STILL FRESH THEN. THROUGH MIRKWOOD AND BACK AGAIN IT LED THEM, THOUGH THEY NEVER CAUGHT HIM. THE WOOD WAS FULL OF THE RUMOUR OF HIM, DREADFUL TALES EVEN AMONG BEASTS AND BIRDS. THE WOODMEN SAID THAT THERE WAS SOME NEW TERROR ABROAD, A GHOST THAT DRANK BLOOD. IT CLIMBED TREES TO FIND NESTS; IT CREPT INTO HOLES TO FIND THE YOUNG; IT SLIPPED THROUGH WINDOWS TO FIND CRADLES. 'BUT AT THE WESTERN EDGE OF MIRKWOOD THE TRAIL TURNED AWAY. IT WANDERED OFF SOUTHWARDS AND PASSED OUT OF THE WOOD-ELVES' KEN, AND WAS LOST. AND THEN I MADE A GREAT MISTAKE. YES, FRODO, AND NOT THE FIRST; THOUGH I FEAR IT MAY PROVE THE WORST. I LET THE MATTER BE. I LET HIM GO; FOR I HAD MUCH ELSE TO THINK OF AT THAT TIME, AND I STILL TRUSTED THE LORE OF SARUMAN. 'WELL, THAT WAS YEARS AGO. I HAVE PAID FOR IT SINCE WITH MANY DARK AND DANGEROUS DAYS. THE TRAIL WAS LONG COLD WHEN I TOOK IT UP AGAIN, AFTER BILBO LEFT HERE. AND MY SEARCH WOULD HAVE BEEN IN VAIN, BUT FOR THE HELP THAT I HAD FROM A FRIEND: ARAGORN, THE GREATEST TRAVELLER AND HUNTSMAN OF THIS AGE OF THE WORLD. TOGETHER WE SOUGHT FOR GOLLUM DOWN THE WHOLE LENGTH OF WILDERLAND, WITHOUT HOPE, AND WITHOUT SUCCESS. BUT AT LAST, WHEN I HAD GIVEN UP THE CHASE AND TURNED TO OTHER PARTS, GOLLUM WAS FOUND. # WELCOME TO THE CRYPTOGRAPHY MODULE BY DECIPHERING THIS PAGE, YOU HAVE SOLVED YOUR FIRST CHALLENGE. CONGRATULATIONS! :) WE RECOMMEND YOU WRITE A SMALL PROGRAM TO DECIPHER THIS PAGE AUTOMATICALLY AS WE *WILL* BE UPDATING IT WITH NEW INFORMATION & NEW CHALLENGES OFTEN. THE KEY USED TO ENCRYPT THIS PAGE WILL *NOT* CHANGE, AND IF IT DOES WE WILL WRITE SO ON TEAMS. WE ALSO REMIND YOU TO **CREATE A TEAM** CALLED \"CRYPT1 - YOURTEAMNAME\", THIS IS WHERE YOU'LL BE ABLE TO ASK US FOR HINTS AND WHERE WE WILL BE DOING THE FINAL DEFENSE. # THE PROZECT THE PROZECT CONSISTS OF A FEW CRYPTOGRAPHY CHALLENGES DETAILED BELOW. SOME CHALLENGES CAN LEAD TO OTHER, HARDER CHALLENGES, ONCE YOU'VE SOLVED THEM. EVERY TIME YOU SOLVE A CHALLENGE, YOU SHOULD **PING US** IN YOUR TEAM'S CHANNEL WITH THE SOLUTION YOU FOUND, WE'LL REVIEW IT AND CONFIRM THAT YOU GOT THE RIGHT ANSWER. DURING THE FINAL DEFENSE, YOU WILL BE GRADED ON: - HOW MANY CHALLENGES YOU'VE SOLVED. - *HOW* YOU SOLVED THOSE CHALLENGES. - YOUR ABILITY TO EXPLAIN YOUR REASONING. - ANY SCRIPTS YOU SUBMIT AS PROOF THAT YOU DID THE TASK (IF IT REQUIRED SCRIPTING) IT GOES WITHOUT SAYING THAT IF YOU SCRIPTS OR YOUR TURN-IN SHARE TOO MUCH IN COMMON WITH ANOTHER GROUP YOU'LL BOTH GET -42. PLEASE DON'T SHARE SOLUTIONS, FIRST OF ALL IT'S NOT FUN, AND SECOND OF ALL IT SUCKS FOR THEM TOO. THIRD OF ALL, YOU'LL BE RANKED RELATIVE TO EACH OTHER (EACH CHALLENGE IS WORTH LESS IF MORE PEOPLE SOLVE IT), SO SHARING SOLUTIONS IS THE BEST WAY TO LOSE POINTS. THIS MODULE IS MADE WITH LOVE AND WITH THE INTENT OF BEING FUN FOR YOU ALL, SO PLAY BY THE RULES AND ENZOY <3 # TURN-IN YOU SHOULD TURN IN A DETAILED WRITE-UP OF ALL THE EXERCISES YOU DID, STARTING WITH THIS ONE. IT CAN BE EITHER A POWERPOINT PRESENTATION OR A PDF, BUT WE SHOULD BE ABLE TO DOWNLOAD IT TO CHECK IT OUT LATER. YOU'LL ALSO PRESENT YOUR WRITEUP DURING THE DEFENSE. # EXERCISES ## BASIC ### BASIC1: YOU ALREADY DID IT! IT'S TO GET TO THIS PAGE! ### BASIC2: 57656C6C20646F6E6520212054686520666C616720666F722074686973206368616C6C656E67652069732074686973206D6573736167652E ### BASIC3: I ACCIDENTALLY XOR-ENCRYPTED THIS FILE... IS THERE ANY WAY YOU CAN HELP ME RECOVER IT? IT'S AT: /CH2.BMP ## HASH ### HASH1: OOOPS, I GOT CARRIED AWAY AND HASHED MY SUPER-SECRET PASSWORD. NOW I CAN'T FIND IT AGAIN ! PLEASE, HELP ME ! HERE'S THE HASH: 37F62F1363B04DF4370753037853FE88 ### HASH2: I'M LOOKING HARD BUT I REALLY CAN'T FIND IT THIS TIME ! HELP !!! 9ED61B711748CFB719DB7B79D0A0062F ## SYMMETRIC ### SYM1: OH NO, I ZUST LOST THE IV WE USE FOR EVERY ENCRYPTED FILE IN OUR PRODUCTION SYSTEM... ALL I HAVE IS A SCREENSHOT OF ONE TIME I ENCRYPTED SOME DATA WITH IT, BUT THE SCREENSHOT GOT EDITED BY A L337 HACKER! CAN YOU HELP ME? THE SCREENSHOT IS HERE: /CH3.ZPG ## RSA ### RSA1: WARM UP LET'S SEE IF YOU GOT MY CLASS. DOWNLOAD /RSA1.PEM, IT'S A PUBLIC KEY. NOW DOWNLOAD /RSA1CIPHER.TXT THE MESSAGE WAS ENCRYPTED USING THE \"PKCS1 OAEP\" ALGORITHM WITH THIS PUBLIC KEY. TRY DECRYPTING IT. OH YEAH - AND HERE'S A NUMBER THAT COULD BE USEFUL ;) P = 11901234461494228310064076121482038286429650089208969229876184007349956782094248940290427800597817633601014470221576037327691902428151823981665392121868907 ### RSA2: MANYKEYS FIND THE CHALLENGE YOURSELF. ### RSA3: FACTORIJATION THIS CHALLENGE IS LOCKED FOR NOW."
   ]
  },
  {
   "cell_type": "code",
   "execution_count": null,
   "metadata": {},
   "outputs": [],
   "source": [
    "Gabriel"
   ]
  }
 ],
 "metadata": {
  "kernelspec": {
   "display_name": "Python 3",
   "language": "python",
   "name": "python3"
  },
  "language_info": {
   "codemirror_mode": {
    "name": "ipython",
    "version": 3
   },
   "file_extension": ".py",
   "mimetype": "text/x-python",
   "name": "python",
   "nbconvert_exporter": "python",
   "pygments_lexer": "ipython3",
   "version": "3.7.6"
  }
 },
 "nbformat": 4,
 "nbformat_minor": 4
}
