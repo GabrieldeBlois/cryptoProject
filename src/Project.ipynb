{
 "cells": [
  {
   "cell_type": "markdown",
   "metadata": {},
   "source": [
    "![](./img/capture_1.png)\n",
    "# Crypto 1 - Project\n",
    "## Description\n",
    "- The project is on the first slide of the course material.\n",
    "- Turn-in instructions and more information are provided there. You can ask for help in your respective Team channels.\n",
    "- Turn-in will be the morning of the defense, so you can work until the last second!\n",
    "\n",
    "## Defense reminder\n",
    "You'll be asked to provide a detailed write-up of how you solved each part of the challenges. Make sure to keep a text document or a presentation or something where you write everything you do and everything you try as you go.\n",
    "\n",
    "## Challenge One"
   ]
  },
  {
   "cell_type": "markdown",
   "metadata": {},
   "source": [
    "### Part 1: deciphering the message in the first slide\n",
    "\n",
    "The first challenge is on the first slide of the project, that I screenshoted and put at the top of this notebook\n",
    "\n",
    "\n",
    "It was written this: 3 - ctlf.rpobakotiy.coo\n",
    "\n",
    "\n",
    "\n",
    "Our first thought was that it may be some rail fence which is one of the easiest way to encrypt a message. The number have been a lead to that, and actually indicated the number of depth.\n",
    "\n",
    "\n",
    "We then used this link: https://www.dcode.fr/chiffre-rail-fence\n",
    "\n",
    "On the website, after setting the language to english, we tried it and it was one of the first results on the left; we were pretty sure that the word \"crypto\" would be in it, so we did a research on the page to find the word crypto, just like the capture below:\n",
    "\n",
    "![](./img/capture_2.png)"
   ]
  },
  {
   "cell_type": "markdown",
   "metadata": {},
   "source": [
    "Which led us to the following text:\n",
    "    \n",
    "Vmr suvrqixeksul urvbxqk xf tvdikt duj pqduemrt duj eqrrzrqt bdt tkrirvdi, vmr fxttsi ydqj xf du ravsuev tzresrt xf fsurpxurj sutrevxsj eqrdvwqrt. Dii xf vmrtr pxurt, vmru, trrhrj vx mdcr prru tvdsurj py twu duj rdqvm fqxh du xqslsudi iscsul bmsvr vx pqxbu, duj uxv vmr vxwlm fspqxwt fixbrq duj trrj-tzsiisul lqrru vmry devwdiiy xuer mdj prru. Mxbdqj bxujrqrj dpxwv d hdu bmx mdj urcrq trru twhhrq, d bsuvrq hdu, radhsusul vmr brrjt duj hdksul vmst sufrqruer -- vmdv mr bdt ixxksul dv du xttwdqy. Vmr hdu bxwij vdkr vmdv dt vqwr duj pdtr mst sjrdt xf vmr bxqij xu vmdv hstvdkr. 'Dm,' tdsj Ldujdif, 'uxb br exhr vx sv. S vmsuk Lxiiwh vqsrj vx. Mr trv xwv duj edhr pdek brtvbdqj, dt fdq dt vmr Lqrdv Qscrq. Pwv vmru mr vwqurj dtsjr. Mr bdt uxv jdwuvrj py vmr jstvduer, S dh twqr. Ux, txhrvmsul ritr jqrb msh dbdy. Tx hy fqsrujt vmsuk, vmxtr vmdv mwuvrj msh fxq hr. 'Vmr Bxxj-ricrt vqdekrj msh fsqtv, du rdty vdtk fxq vmrh, fxq mst vqdsi bdt tvsii fqrtm vmru. Vmqxwlm Hsqkbxxj duj pdek dldsu sv irj vmrh, vmxwlm vmry urcrq edwlmv msh. Vmr bxxj bdt fwii xf vmr qwhxwq xf msh, jqrdjfwi vdirt rcru dhxul prdtvt duj psqjt. Vmr Bxxjhru tdsj vmdv vmrqr bdt txhr urb vrqqxq dpqxdj, d lmxtv vmdv jqduk pixxj. Sv eishprj vqrrt vx fsuj urtvt; sv eqrzv suvx mxirt vx fsuj vmr yxwul; sv tiszzrj vmqxwlm bsujxbt vx fsuj eqdjirt. 'Pwv dv vmr brtvrqu rjlr xf Hsqkbxxj vmr vqdsi vwqurj dbdy. Sv bdujrqrj xff txwvmbdqjt duj zdttrj xwv xf vmr Bxxj-ricrt' kru, duj bdt ixtv. Duj vmru S hdjr d lqrdv hstvdkr. Yrt, Fqxjx, duj uxv vmr fsqtv; vmxwlm S frdq sv hdy zqxcr vmr bxqtv. S irv vmr hdvvrq pr. S irv msh lx; fxq S mdj hwem ritr vx vmsuk xf dv vmdv vshr, duj S tvsii vqwtvrj vmr ixqr xf Tdqwhdu. 'Brii, vmdv bdt yrdqt dlx. S mdcr zdsj fxq sv tsuer bsvm hduy jdqk duj jdulrqxwt jdyt. Vmr vqdsi bdt ixul exij bmru S vxxk sv wz dldsu, dfvrq Psipx irfv mrqr. Duj hy trdqem bxwij mdcr prru su cdsu, pwv fxq vmr mriz vmdv S mdj fqxh d fqsruj: Dqdlxqu, vmr lqrdvrtv vqdcriirq duj mwuvthdu xf vmst dlr xf vmr bxqij. Vxlrvmrq br txwlmv fxq Lxiiwh jxbu vmr bmxir irulvm xf Bsijrqiduj, bsvmxwv mxzr, duj bsvmxwv tweertt. Pwv dv idtv, bmru S mdj lscru wz vmr emdtr duj vwqurj vx xvmrq zdqvt, Lxiiwh bdt fxwuj. # BRIEXHR VX VMR EQYZVXLQDZMY HXJWIR Py jreszmrqsul vmst zdlr, yxw mdcr txicrj emdiirulr 1. Exulqdvwidvsxut! :) Br qrexhhruj yxw bqsvr d thdii zqxlqdh vx jreszmrq vmst zdlr dwvxhdvsediiy dt br *bsii* pr wzjdvsul sv bsvm urb sufxqhdvsxu & urb emdiirulrt xfvru. Vmr kry wtrj vx rueqyzv vmst zdlr bsii *uxv* emdulr, duj sf sv jxrt br bsii bqsvr tx xu Vrdht. Br ditx qrhsuj yxw vx **eqrdvr d Vrdh** ediirj \"EQYZV1 - YXWQVRDHUDHR\", vmst st bmrqr yxw'ii pr dpir vx dtk wt fxq msuvt duj bmrqr br bsii pr jxsul vmr fsudi jrfrutr. ## VMR ZQXNREV Vmr zqxnrev exutstvt xf d frb eqyzvxlqdzmy emdiirulr jrvdsirj prixb. Txhr emdiirulrt edu irdj vx xvmrq, mdqjrq emdiirulrt, xuer yxw'cr txicr vmrh. Rcrqy vshr yxw txicr d emdiirulr, yxw tmxwij **zsul wt** su yxwq vrdh't emduuri bsvm vmr txiwvsxu yxw fxwuj, br'ii qrcsrb sv duj exufsqh vmdv yxw lxv vmr qslmv dutbrq. Jwqsul vmr fsudi jrfrutr, yxw bsii pr lqdjrj xu: - Mxb hduy emdiirulrt yxw'cr txicrj. - *Mxb* yxw txicrj vmxtr emdiirulrt. - Yxwq dpsisvy vx razidsu yxwq qrdtxusul. - Duy teqszvt yxw twphsv dt zqxxf vmdv yxw jsj vmr vdtk (sf sv qrowsqrj teqszvsul) Sv lxrt bsvmxwv tdysul vmdv sf yxw teqszvt xq yxwq vwqu-su tmdqr vxx hwem su exhhxu bsvm d erqvdsu lqxwz yxw'ii pxvm lrv -42. Zirdtr jxu'v tmdqr txiwvsxut, fsqtv xf dii sv't uxv fwu, duj trexuj xf dii sv twekt fxq vmrh vxx. Vmsqj xf dii, yxw'ii pr qdukrj qridvscr vx rdem xvmrq (rdem emdiirulr st bxqvm IRTT sf HXQR zrxzir txicr sv), tx tmdqsul txiwvsxut st vmr prtv bdy vx ixtr zxsuvt. Vmst hxjwir st hdjr bsvm ixcr duj bsvm vmr suvruv xf prsul fwu fxq yxw dii, tx zidy py vmr qwirt duj runxy <3 ## VWQU-SU Yxw tmxwij vwqu su d jrvdsirj bqsvr-wz xf dii vmr rarqestrt yxw jsj, tvdqvsul bsvm vmst xur. Sv edu pr rsvmrq d zxbrqzxsuv zqrtruvdvsxu xq d ZJF, pwv br tmxwij pr dpir vx jxbuixdj sv vx emrek sv xwv idvrq. Yxw'ii ditx zqrtruv yxwq bqsvrwz jwqsul vmr jrfrutr. ## RARQESTRT ### Emdiirulr 1: Yxw diqrdjy jsj sv! Sv't vx lrv vx vmst zdlr! ### Emdiirulr 2: S deesjruvdiiy AXQ-rueqyzvrj vmst fsir... St vmrqr duy bdy yxw edu mriz hr qrexcrq sv? Sv't dv: /em2.phz ### Emdiirulr 3: Xm ux, S nwtv ixtv vmr SC br wtr fxq rcrqy rueqyzvrj fsir su xwq zqxjwevsxu tytvrh... Dii S mdcr st d teqrrutmxv xf xur vshr s rueqyzvrj txhr jdvd bsvm sv, pwv vmr teqrrutmxv lxv rjsvrj py d i337 mdekrq! Edu yxw mriz hr? Vmr teqrrutmxv st mrqr: /em3.nzl\n",
    "\n",
    "### Part 2: Deciphering the message found on http://crypto.blackfoot.io\n",
    "\n",
    "### First guess\n",
    "One of our first guess about this message is that it would hide some subsitutions of some sorts, especially because we can see the words like vmr. \n",
    "\n",
    "\n",
    "### How did we find it was substitution\n",
    "This word (as it is in english would probably mean \"the\", which is one of the most used words in english). And we can cross vmr in several places in the text, so the message has to be ciphered with an algorithm that has each letter associated with another fixed one.\n",
    "\n",
    "That said, we could have developped a script by ourselves that test all the possibilities, but we'd preffered to use a tool that was already made, we used this link: https://www.dcode.fr/substitution-monoalphabetique\n",
    "\n",
    "### The result\n",
    "This gave us on the first try this text:\n",
    "\n",
    "THE INTERLOCKING NETWORK OF STALKS AND BRANCHES AND CREEPERS WAS SKELETAL, THE FOSSIL YARD OF AN EXTINCT SPECIES OF FINEBONED INSECTOID CREATURES. ALL OF THESE BONES, THEN, SEEMED TO HAVE BEEN STAINED BY SUN AND EARTH FROM AN ORIGINAL LIVING WHITE TO BROWN, AND NOT THE TOUGH FIBROUS FLOWER AND SEED-SPILLING GREEN THEY ACTUALLY ONCE HAD BEEN. HOWARD WONDERED ABOUT A MAN WHO HAD NEVER SEEN SUMMER, A WINTER MAN, EXAMINING THE WEEDS AND MAKING THIS INFERENCE -- THAT HE WAS LOOKING AT AN OSSUARY. THE MAN WOULD TAKE THAT AS TRUE AND BASE HIS IDEAS OF THE WORLD ON THAT MISTAKE. 'AH,' SAID GANDALF, 'NOW WE COME TO IT. I THINK GOLLUM TRIED TO. HE SET OUT AND CAME BACK WESTWARD, AS FAR AS THE GREAT RIVER. BUT THEN HE TURNED ASIDE. HE WAS NOT DAUNTED BY THE DISTANCE, I AM SURE. NO, SOMETHING ELSE DREW HIM AWAY. SO MY FRIENDS THINK, THOSE THAT HUNTED HIM FOR ME. 'THE WOOD-ELVES TRACKED HIM FIRST, AN EASY TASK FOR THEM, FOR HIS TRAIL WAS STILL FRESH THEN. THROUGH MIRKWOOD AND BACK AGAIN IT LED THEM, THOUGH THEY NEVER CAUGHT HIM. THE WOOD WAS FULL OF THE RUMOUR OF HIM, DREADFUL TALES EVEN AMONG BEASTS AND BIRDS. THE WOODMEN SAID THAT THERE WAS SOME NEW TERROR ABROAD, A GHOST THAT DRANK BLOOD. IT CLIMBED TREES TO FIND NESTS; IT CREPT INTO HOLES TO FIND THE YOUNG; IT SLIPPED THROUGH WINDOWS TO FIND CRADLES. 'BUT AT THE WESTERN EDGE OF MIRKWOOD THE TRAIL TURNED AWAY. IT WANDERED OFF SOUTHWARDS AND PASSED OUT OF THE WOOD-ELVES' KEN, AND WAS LOST. AND THEN I MADE A GREAT MISTAKE. YES, FRODO, AND NOT THE FIRST; THOUGH I FEAR IT MAY PROVE THE WORST. I LET THE MATTER BE. I LET HIM GO; FOR I HAD MUCH ELSE TO THINK OF AT THAT TIME, AND I STILL TRUSTED THE LORE OF SARUMAN. 'WELL, THAT WAS YEARS AGO. I HAVE PAID FOR IT SINCE WITH MANY DARK AND DANGEROUS DAYS. THE TRAIL WAS LONG COLD WHEN I TOOK IT UP AGAIN, AFTER BILBO LEFT HERE. AND MY SEARCH WOULD HAVE BEEN IN VAIN, BUT FOR THE HELP THAT I HAD FROM A FRIEND: ARAGORN, THE GREATEST TRAVELLER AND HUNTSMAN OF THIS AGE OF THE WORLD. TOGETHER WE SOUGHT FOR GOLLUM DOWN THE WHOLE LENGTH OF WILDERLAND, WITHOUT HOPE, AND WITHOUT SUCCESS. BUT AT LAST, WHEN I HAD GIVEN UP THE CHASE AND TURNED TO OTHER PARTS, GOLLUM WAS FOUND. # WELCOME TO THE CRYPTOGRAPHY MODULE BY DECIPHERING THIS PAGE, YOU HAVE SOLVED CHALLENGE 1. CONGRATULATIONS! :) WE RECOMMEND YOU WRITE A SMALL PROGRAM TO DECIPHER THIS PAGE AUTOMATICALLY AS WE *WILL* BE UPDATING IT WITH NEW INFORMATION & NEW CHALLENGES OFTEN. THE KEY USED TO ENCRYPT THIS PAGE WILL *NOT* CHANGE, AND IF IT DOES WE WILL WRITE SO ON TEAMS. WE ALSO REMIND YOU TO **CREATE A TEAM** CALLED \"CRYPT1 - YOURTEAMNAME\", THIS IS WHERE YOU'LL BE ABLE TO ASK US FOR HINTS AND WHERE WE WILL BE DOING THE FINAL DEFENSE. ## THE PROZECT THE PROZECT CONSISTS OF A FEW CRYPTOGRAPHY CHALLENGE DETAILED BELOW. SOME CHALLENGES CAN LEAD TO OTHER, HARDER CHALLENGES, ONCE YOU'VE SOLVE THEM. EVERY TIME YOU SOLVE A CHALLENGE, YOU SHOULD **PING US** IN YOUR TEAM'S CHANNEL WITH THE SOLUTION YOU FOUND, WE'LL REVIEW IT AND CONFIRM THAT YOU GOT THE RIGHT ANSWER. DURING THE FINAL DEFENSE, YOU WILL BE GRADED ON: - HOW MANY CHALLENGES YOU'VE SOLVED. - *HOW* YOU SOLVED THOSE CHALLENGES. - YOUR ABILITY TO EXPLAIN YOUR REASONING. - ANY SCRIPTS YOU SUBMIT AS PROOF THAT YOU DID THE TASK (IF IT REQUIRED SCRIPTING) IT GOES WITHOUT SAYING THAT IF YOU SCRIPTS OR YOUR TURN-IN SHARE TOO MUCH IN COMMON WITH A CERTAIN GROUP YOU'LL BOTH GET -42. PLEASE DON'T SHARE SOLUTIONS, FIRST OF ALL IT'S NOT FUN, AND SECOND OF ALL IT SUCKS FOR THEM TOO. THIRD OF ALL, YOU'LL BE RANKED RELATIVE TO EACH OTHER (EACH CHALLENGE IS WORTH LESS IF MORE PEOPLE SOLVE IT), SO SHARING SOLUTIONS IS THE BEST WAY TO LOSE POINTS. THIS MODULE IS MADE WITH LOVE AND WITH THE INTENT OF BEING FUN FOR YOU ALL, SO PLAY BY THE RULES AND ENZOY <3 ## TURN-IN YOU SHOULD TURN IN A DETAILED WRITE-UP OF ALL THE EXERCISES YOU DID, STARTING WITH THIS ONE. IT CAN BE EITHER A POWERPOINT PRESENTATION OR A PDF, BUT WE SHOULD BE ABLE TO DOWNLOAD IT TO CHECK IT OUT LATER. YOU'LL ALSO PRESENT YOUR WRITEUP DURING THE DEFENSE. ## EXERCISES ### CHALLENGE 1: YOU ALREADY DID IT! IT'S TO GET TO THIS PAGE! ### CHALLENGE 2: I ACCIDENTALLY XOR-ENCRYPTED THIS FILE... IS THERE ANY WAY YOU CAN HELP ME RECOVER IT? IT'S AT: /CH2.BMP ### CHALLENGE 3: OH NO, I ZUST LOST THE IV WE USE FOR EVERY ENCRYPTED FILE IN OUR PRODUCTION SYSTEM... ALL I HAVE IS A SCREENSHOT OF ONE TIME I ENCRYPTED SOME DATA WITH IT, BUT THE SCREENSHOT GOT EDITED BY A L337 HACKER! CAN YOU HELP ME? THE SCREENSHOT IS HERE: /CH3.ZPG\n"
   ]
  },
  {
   "cell_type": "markdown",
   "metadata": {},
   "source": [
    "## Challenge Two: I accidentally XOR-encrypted this file...\n",
    "Is there any way you can help me recover it ? It's at /ch2.bmp\n",
    "\n",
    "image link: https://crypto.blackfoot.io/ch2.bmp\n",
    "\n",
    "The image is stored in this directory undex ./img/"
   ]
  },
  {
   "cell_type": "markdown",
   "metadata": {},
   "source": [
    "\n",
    "### First thought\n",
    "\n",
    "From the wikipedia page: https://en.wikipedia.org/wiki/BMP_file_format the bmp format has a fixed header which can help us to know some of the characters of the key, or the character if the key is a repetitive single character.\n",
    "\n",
    "let's load the file:"
   ]
  },
  {
   "cell_type": "code",
   "execution_count": 89,
   "metadata": {},
   "outputs": [
    {
     "name": "stdout",
     "output_type": "stream",
     "text": [
      "This file contains: 63642 bytes\n"
     ]
    },
    {
     "data": {
      "text/plain": [
       "b'%$\\xee\\x9fudgitg\\xffdgi\\x08gud\\x19itg\\x0bdgiugUd'"
      ]
     },
     "execution_count": 89,
     "metadata": {},
     "output_type": "execute_result"
    }
   ],
   "source": [
    "img_bytes = []\n",
    "with open('./img/ch2.bmp', 'rb') as file:\n",
    "    img_bytes = file.read()\n",
    "file_size = len(img_bytes)\n",
    "print(f\"This file contains: {file_size} bytes\")\n",
    "img_bytes[:30]"
   ]
  },
  {
   "cell_type": "markdown",
   "metadata": {},
   "source": [
    "As seen in the wikipedia page of the XOR encryption [here](https://en.wikipedia.org/wiki/XOR_cipher), the first two bytes must be BM, and the xor encryption implies that:"
   ]
  },
  {
   "cell_type": "code",
   "execution_count": 90,
   "metadata": {},
   "outputs": [
    {
     "name": "stdout",
     "output_type": "stream",
     "text": [
      "A ^ 0 = 3\n",
      "A ^ A = 0\n",
      "(A ^ B) ^ C = A ^ (B ^ C) such as 14 = 14\n",
      "(B ^ A) ^ A = B ^ 0 = 0 such as 5 = 5\n"
     ]
    }
   ],
   "source": [
    "A, B, C = 3, 5, 8\n",
    "\n",
    "print(f\"A ^ 0 = {A ^ 0}\")\n",
    "print(f\"A ^ A = {A ^ A}\")\n",
    "print(f\"(A ^ B) ^ C = A ^ (B ^ C) such as {(A ^ B) ^ C} = {A ^ (B ^ C)}\")\n",
    "print(f\"(B ^ A) ^ A = B ^ 0 = 0 such as {(B ^ A) ^ A} = {B ^ 0}\")"
   ]
  },
  {
   "cell_type": "markdown",
   "metadata": {},
   "source": [
    "So: for A the real character (the 'B' of 'BM') and C the current character and K as the key as: \n",
    "\n",
    "A xor K = C so K = A xor C"
   ]
  },
  {
   "cell_type": "code",
   "execution_count": 98,
   "metadata": {},
   "outputs": [
    {
     "name": "stdout",
     "output_type": "stream",
     "text": [
      "A:16 ^ K:32 = C:48 so K:32 = A:16 ^ C:48 = 32\n"
     ]
    }
   ],
   "source": [
    "A = 16\n",
    "K = 32\n",
    "C = A ^ K\n",
    "print(f\"A:{A} ^ K:{K} = C:{C} so K:{K} = A:{A} ^ C:{C} = {A ^ C}\")"
   ]
  },
  {
   "cell_type": "markdown",
   "metadata": {},
   "source": [
    "### Apply these tests to our real world problem\n",
    "let's apply that to our bmp file"
   ]
  },
  {
   "cell_type": "code",
   "execution_count": 96,
   "metadata": {},
   "outputs": [
    {
     "name": "stdout",
     "output_type": "stream",
     "text": [
      "The wiki says that the first char (A) must be equal to 0x42 in hexa: A = 0x42\n",
      "At that moment: A:66 C:37 key:103 | check: C = 37\n",
      "second character as hexa with the same key: 0x43\n",
      "At that moment: A2:77 C2:36 key:105 | check: C = 36\n"
     ]
    }
   ],
   "source": [
    "# first let's get the key for the first character\n",
    "A = b'B'[0]\n",
    "print(f\"The wiki says that the first char (A) must be equal to 0x42 in hexa: A = {hex(A)}\")\n",
    "C = img_bytes[0]\n",
    "key1 = A ^ C\n",
    "print(f\"At that moment: A:{A} C:{C} key:{key1} | check: C = {A ^ key1}\")\n",
    "\n",
    "# check if it works for the second byte with the same key. The second must be: 0x4D\n",
    "print(f\"second character as hexa with the same key: {hex(img_bytes[1] ^ key1)}\")\n",
    "\n",
    "# So the second character does not have the same key. Let's find it\n",
    "A2, C2 = b'M'[0], img_bytes[1]\n",
    "key2 = A2 ^ C2\n",
    "print(f\"At that moment: A2:{A2} C2:{C2} key:{key2} | check: C = {A2 ^ key2}\")"
   ]
  },
  {
   "cell_type": "markdown",
   "metadata": {},
   "source": [
    "We can go a little bit further in our testing, because we know that the file size is 62kb, which should be encoded in the next 4 bytes"
   ]
  },
  {
   "cell_type": "code",
   "execution_count": 99,
   "metadata": {},
   "outputs": [
    {
     "name": "stdout",
     "output_type": "stream",
     "text": [
      "If this is 0, the length of the key is relevant: 0\n"
     ]
    }
   ],
   "source": [
    "import struct\n",
    "file_size_real = file_size\n",
    "file_size_real_bytes = file_size_real.to_bytes(4, byteorder = 'little')\n",
    "\n",
    "# getting the interesting part of the header containing the size\n",
    "file_size_crypted_bytes = img_bytes[2:6]\n",
    "\n",
    "key = []\n",
    "key.append(key1)\n",
    "key.append(key2)\n",
    "\n",
    "for i in range(4):\n",
    "    key.append(file_size_real_bytes[i] ^ file_size_crypted_bytes[i])\n",
    "\n",
    "# first of all, let's check that the size of the file is a multiple of six for the key to work\n",
    "print(f\"If this is 0, the length of the key is relevant: {file_size_real % 6}\")\n",
    "    \n",
    "# let's imagine that the actual key was 6 bytes long\n",
    "index = 0\n",
    "img_bytes_decrypted = []\n",
    "for b in img_bytes:\n",
    "    img_bytes_decrypted.append(b ^ key[index % len(key)])\n",
    "    index = index + 1\n",
    "img_bytes_decrypted = bytes(img_bytes_decrypted)\n",
    "\n",
    "with open(\"./img/ch2-decrypted.bmp\", \"wb\") as new_file:\n",
    "    new_file.write(img_bytes_decrypted)"
   ]
  },
  {
   "cell_type": "markdown",
   "metadata": {},
   "source": [
    "It worked !!!!\n",
    "\n",
    "The created bmp is in the img folder"
   ]
  },
  {
   "cell_type": "markdown",
   "metadata": {},
   "source": [
    "## Challenge Three: Oh no, I just lost the IV (initialization vector) we use for every encrypted file in our production system\n",
    "All i have is a screenshot of one time I encrypted some data with it, but the screenshot got edited by a L337 hacker ! Can you help me ? the screenshot is here: /ch3.jpg\n",
    "\n",
    "screenshot link: https://crypto.blackfoot.io/ch3.jpg\n",
    "\n"
   ]
  },
  {
   "cell_type": "code",
   "execution_count": null,
   "metadata": {},
   "outputs": [],
   "source": []
  }
 ],
 "metadata": {
  "kernelspec": {
   "display_name": "Python 3",
   "language": "python",
   "name": "python3"
  },
  "language_info": {
   "codemirror_mode": {
    "name": "ipython",
    "version": 3
   },
   "file_extension": ".py",
   "mimetype": "text/x-python",
   "name": "python",
   "nbconvert_exporter": "python",
   "pygments_lexer": "ipython3",
   "version": "3.7.6"
  }
 },
 "nbformat": 4,
 "nbformat_minor": 4
}
